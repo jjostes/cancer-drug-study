{
 "cells": [
  {
   "cell_type": "markdown",
   "metadata": {},
   "source": [
    "## Observations and Insights"
   ]
  },
  {
   "cell_type": "code",
   "execution_count": 1,
   "metadata": {},
   "outputs": [],
   "source": [
    "1. In terms of data points, the top 2 drugs, Capomulin & Ramicane, also had the lowest standard errors\n",
    "   (.33 & .32 respectively). I am wondering if this is truly reflective of their means' reliability, or is simply\n",
    "   the result of having a larger population to sample from. If the latter is true, and total data points were equal\n",
    "   across all drugs, I might feel more confident recommending them, though the medians measured for all seem\n",
    "   to be a good indicator of overall success.\n",
    "\n",
    "\n",
    "2. It is interesting that 78% of the drugs were as effective as the placebo. I'm curious what sort of cancer cells\n",
    "   were introduced to each mouse (one would hope this was controlled for). My thought being, Ceftamin is not\n",
    "   effective against this particular cancer, but might work against another. Like how Cabazitaxel is used to treat\n",
    "   prostate cancer while Ibrutinib fights certain lymphomas (from National Cancer Institute's website).\n",
    "\n",
    "\n",
    "3. An observation that is hard to miss is the strong correlation between average tumor volume and mouse weight, both\n",
    "   just about increasing proportionally. I wonder if this might be due to smaller mice succumbing to the cancer \n",
    "   sooner, limiting the time the tumor has to grow. Another question is whether, with an increased body mass, the\n",
    "   tumor has the metabolic support to grow larger. Don't know enough bio - should ask Bo!!\n"
   ]
  },
  {
   "cell_type": "markdown",
   "metadata": {},
   "source": []
  },
  {
   "cell_type": "markdown",
   "metadata": {},
   "source": [
    "## Dependencies and starter code"
   ]
  },
  {
   "cell_type": "code",
   "execution_count": 49,
   "metadata": {},
   "outputs": [
    {
     "data": {
      "text/html": [
       "<div>\n",
       "<style scoped>\n",
       "    .dataframe tbody tr th:only-of-type {\n",
       "        vertical-align: middle;\n",
       "    }\n",
       "\n",
       "    .dataframe tbody tr th {\n",
       "        vertical-align: top;\n",
       "    }\n",
       "\n",
       "    .dataframe thead th {\n",
       "        text-align: right;\n",
       "    }\n",
       "</style>\n",
       "<table border=\"1\" class=\"dataframe\">\n",
       "  <thead>\n",
       "    <tr style=\"text-align: right;\">\n",
       "      <th></th>\n",
       "      <th>Mouse ID</th>\n",
       "      <th>Drug Regimen</th>\n",
       "      <th>Sex</th>\n",
       "      <th>Age_months</th>\n",
       "      <th>Weight (g)</th>\n",
       "      <th>Timepoint</th>\n",
       "      <th>Tumor Volume (mm3)</th>\n",
       "      <th>Metastatic Sites</th>\n",
       "    </tr>\n",
       "  </thead>\n",
       "  <tbody>\n",
       "    <tr>\n",
       "      <th>0</th>\n",
       "      <td>k403</td>\n",
       "      <td>Ramicane</td>\n",
       "      <td>Male</td>\n",
       "      <td>21</td>\n",
       "      <td>16</td>\n",
       "      <td>0</td>\n",
       "      <td>45.000000</td>\n",
       "      <td>0</td>\n",
       "    </tr>\n",
       "    <tr>\n",
       "      <th>1</th>\n",
       "      <td>k403</td>\n",
       "      <td>Ramicane</td>\n",
       "      <td>Male</td>\n",
       "      <td>21</td>\n",
       "      <td>16</td>\n",
       "      <td>5</td>\n",
       "      <td>38.825898</td>\n",
       "      <td>0</td>\n",
       "    </tr>\n",
       "    <tr>\n",
       "      <th>2</th>\n",
       "      <td>k403</td>\n",
       "      <td>Ramicane</td>\n",
       "      <td>Male</td>\n",
       "      <td>21</td>\n",
       "      <td>16</td>\n",
       "      <td>10</td>\n",
       "      <td>35.014271</td>\n",
       "      <td>1</td>\n",
       "    </tr>\n",
       "    <tr>\n",
       "      <th>3</th>\n",
       "      <td>k403</td>\n",
       "      <td>Ramicane</td>\n",
       "      <td>Male</td>\n",
       "      <td>21</td>\n",
       "      <td>16</td>\n",
       "      <td>15</td>\n",
       "      <td>34.223992</td>\n",
       "      <td>1</td>\n",
       "    </tr>\n",
       "    <tr>\n",
       "      <th>4</th>\n",
       "      <td>k403</td>\n",
       "      <td>Ramicane</td>\n",
       "      <td>Male</td>\n",
       "      <td>21</td>\n",
       "      <td>16</td>\n",
       "      <td>20</td>\n",
       "      <td>32.997729</td>\n",
       "      <td>1</td>\n",
       "    </tr>\n",
       "  </tbody>\n",
       "</table>\n",
       "</div>"
      ],
      "text/plain": [
       "  Mouse ID Drug Regimen   Sex  Age_months  Weight (g)  Timepoint  \\\n",
       "0     k403     Ramicane  Male          21          16          0   \n",
       "1     k403     Ramicane  Male          21          16          5   \n",
       "2     k403     Ramicane  Male          21          16         10   \n",
       "3     k403     Ramicane  Male          21          16         15   \n",
       "4     k403     Ramicane  Male          21          16         20   \n",
       "\n",
       "   Tumor Volume (mm3)  Metastatic Sites  \n",
       "0           45.000000                 0  \n",
       "1           38.825898                 0  \n",
       "2           35.014271                 1  \n",
       "3           34.223992                 1  \n",
       "4           32.997729                 1  "
      ]
     },
     "execution_count": 49,
     "metadata": {},
     "output_type": "execute_result"
    }
   ],
   "source": [
    "# Dependencies and Setup\n",
    "import matplotlib.pyplot as plt\n",
    "import pandas as pd\n",
    "import scipy.stats as st\n",
    "import numpy as np\n",
    "\n",
    "# Study data files\n",
    "mouse_metadata = \"data/Mouse_metadata.csv\"\n",
    "study_results = \"data/Study_results.csv\"\n",
    "\n",
    "# Read the mouse data and the study results\n",
    "mouse_metadata = pd.read_csv(mouse_metadata)\n",
    "study_results = pd.read_csv(study_results)\n",
    "\n",
    "# Combine the data into a single dataset\n",
    "main_data = pd.merge(mouse_metadata, study_results, how='outer', on='Mouse ID')\n",
    "main_data.head()"
   ]
  },
  {
   "cell_type": "markdown",
   "metadata": {},
   "source": [
    "## Summary statistics"
   ]
  },
  {
   "cell_type": "code",
   "execution_count": 50,
   "metadata": {},
   "outputs": [],
   "source": [
    "# Generate a summary statistics table of mean, median, variance, standard deviation, and SEM of the tumor volume for each regimen"
   ]
  },
  {
   "cell_type": "code",
   "execution_count": 51,
   "metadata": {},
   "outputs": [
    {
     "data": {
      "text/html": [
       "<div>\n",
       "<style scoped>\n",
       "    .dataframe tbody tr th:only-of-type {\n",
       "        vertical-align: middle;\n",
       "    }\n",
       "\n",
       "    .dataframe tbody tr th {\n",
       "        vertical-align: top;\n",
       "    }\n",
       "\n",
       "    .dataframe thead th {\n",
       "        text-align: right;\n",
       "    }\n",
       "</style>\n",
       "<table border=\"1\" class=\"dataframe\">\n",
       "  <thead>\n",
       "    <tr style=\"text-align: right;\">\n",
       "      <th></th>\n",
       "      <th>Tumor Volume Mean</th>\n",
       "      <th>Tumor Volume Median</th>\n",
       "      <th>Tumor Volume Variance</th>\n",
       "      <th>Tumor Volume StanDev</th>\n",
       "      <th>Tumor Volume StanError</th>\n",
       "    </tr>\n",
       "    <tr>\n",
       "      <th>Drug Regimen</th>\n",
       "      <th></th>\n",
       "      <th></th>\n",
       "      <th></th>\n",
       "      <th></th>\n",
       "      <th></th>\n",
       "    </tr>\n",
       "  </thead>\n",
       "  <tbody>\n",
       "    <tr>\n",
       "      <th>Capomulin</th>\n",
       "      <td>40.68</td>\n",
       "      <td>41.56</td>\n",
       "      <td>24.95</td>\n",
       "      <td>4.99</td>\n",
       "      <td>0.33</td>\n",
       "    </tr>\n",
       "    <tr>\n",
       "      <th>Ceftamin</th>\n",
       "      <td>52.59</td>\n",
       "      <td>51.78</td>\n",
       "      <td>39.29</td>\n",
       "      <td>6.27</td>\n",
       "      <td>0.47</td>\n",
       "    </tr>\n",
       "    <tr>\n",
       "      <th>Infubinol</th>\n",
       "      <td>52.88</td>\n",
       "      <td>51.82</td>\n",
       "      <td>43.13</td>\n",
       "      <td>6.57</td>\n",
       "      <td>0.49</td>\n",
       "    </tr>\n",
       "    <tr>\n",
       "      <th>Ketapril</th>\n",
       "      <td>55.24</td>\n",
       "      <td>53.70</td>\n",
       "      <td>68.55</td>\n",
       "      <td>8.28</td>\n",
       "      <td>0.60</td>\n",
       "    </tr>\n",
       "    <tr>\n",
       "      <th>Naftisol</th>\n",
       "      <td>54.33</td>\n",
       "      <td>52.51</td>\n",
       "      <td>66.17</td>\n",
       "      <td>8.13</td>\n",
       "      <td>0.60</td>\n",
       "    </tr>\n",
       "    <tr>\n",
       "      <th>Placebo</th>\n",
       "      <td>54.03</td>\n",
       "      <td>52.29</td>\n",
       "      <td>61.17</td>\n",
       "      <td>7.82</td>\n",
       "      <td>0.58</td>\n",
       "    </tr>\n",
       "    <tr>\n",
       "      <th>Propriva</th>\n",
       "      <td>52.32</td>\n",
       "      <td>50.85</td>\n",
       "      <td>42.35</td>\n",
       "      <td>6.51</td>\n",
       "      <td>0.51</td>\n",
       "    </tr>\n",
       "    <tr>\n",
       "      <th>Ramicane</th>\n",
       "      <td>40.22</td>\n",
       "      <td>40.67</td>\n",
       "      <td>23.49</td>\n",
       "      <td>4.85</td>\n",
       "      <td>0.32</td>\n",
       "    </tr>\n",
       "    <tr>\n",
       "      <th>Stelasyn</th>\n",
       "      <td>54.23</td>\n",
       "      <td>52.43</td>\n",
       "      <td>59.45</td>\n",
       "      <td>7.71</td>\n",
       "      <td>0.57</td>\n",
       "    </tr>\n",
       "    <tr>\n",
       "      <th>Zoniferol</th>\n",
       "      <td>53.24</td>\n",
       "      <td>51.82</td>\n",
       "      <td>48.53</td>\n",
       "      <td>6.97</td>\n",
       "      <td>0.52</td>\n",
       "    </tr>\n",
       "  </tbody>\n",
       "</table>\n",
       "</div>"
      ],
      "text/plain": [
       "             Tumor Volume Mean Tumor Volume Median Tumor Volume Variance  \\\n",
       "Drug Regimen                                                               \n",
       "Capomulin                40.68               41.56                 24.95   \n",
       "Ceftamin                 52.59               51.78                 39.29   \n",
       "Infubinol                52.88               51.82                 43.13   \n",
       "Ketapril                 55.24               53.70                 68.55   \n",
       "Naftisol                 54.33               52.51                 66.17   \n",
       "Placebo                  54.03               52.29                 61.17   \n",
       "Propriva                 52.32               50.85                 42.35   \n",
       "Ramicane                 40.22               40.67                 23.49   \n",
       "Stelasyn                 54.23               52.43                 59.45   \n",
       "Zoniferol                53.24               51.82                 48.53   \n",
       "\n",
       "             Tumor Volume StanDev Tumor Volume StanError  \n",
       "Drug Regimen                                              \n",
       "Capomulin                    4.99                   0.33  \n",
       "Ceftamin                     6.27                   0.47  \n",
       "Infubinol                    6.57                   0.49  \n",
       "Ketapril                     8.28                   0.60  \n",
       "Naftisol                     8.13                   0.60  \n",
       "Placebo                      7.82                   0.58  \n",
       "Propriva                     6.51                   0.51  \n",
       "Ramicane                     4.85                   0.32  \n",
       "Stelasyn                     7.71                   0.57  \n",
       "Zoniferol                    6.97                   0.52  "
      ]
     },
     "execution_count": 51,
     "metadata": {},
     "output_type": "execute_result"
    }
   ],
   "source": [
    "grouped_data = main_data.groupby('Drug Regimen')\n",
    "\n",
    "mean_vol = grouped_data['Tumor Volume (mm3)'].mean()\n",
    "median_vol = grouped_data['Tumor Volume (mm3)'].median()\n",
    "var_vol = grouped_data['Tumor Volume (mm3)'].var()\n",
    "std_vol = grouped_data['Tumor Volume (mm3)'].std()\n",
    "sem_vol = grouped_data['Tumor Volume (mm3)'].sem()\n",
    "\n",
    "summary_table = pd.DataFrame({'Tumor Volume Mean': mean_vol,\n",
    "                              'Tumor Volume Median': median_vol,\n",
    "                              'Tumor Volume Variance': var_vol,\n",
    "                              'Tumor Volume StanDev': std_vol,\n",
    "                              'Tumor Volume StanError': sem_vol})\n",
    "\n",
    "summary_table = summary_table.applymap('{:.2f}'.format)\n",
    "\n",
    "summary_table"
   ]
  },
  {
   "cell_type": "markdown",
   "metadata": {},
   "source": [
    "## Bar plots"
   ]
  },
  {
   "cell_type": "code",
   "execution_count": 52,
   "metadata": {
    "scrolled": true
   },
   "outputs": [
    {
     "data": {
      "text/plain": [
       "<matplotlib.axes._subplots.AxesSubplot at 0x1a241d7b90>"
      ]
     },
     "execution_count": 52,
     "metadata": {},
     "output_type": "execute_result"
    },
    {
     "data": {
      "image/png": "[encoded data removed]",
      "text/plain": [
       "<Figure size 432x288 with 1 Axes>"
      ]
     },
     "metadata": {
      "needs_background": "light"
     },
     "output_type": "display_data"
    }
   ],
   "source": [
    "# Generate a bar plot showing number of data points for each treatment regimen using pandas\n",
    "\n",
    "datapoints_sum = grouped_data.count()\n",
    "datapoints_sum = datapoints_sum.sort_values('Drug Regimen')\n",
    "\n",
    "\n",
    "datapoints_sum.plot.bar(title='Total Number of Data Points', legend=False, alpha=.70, rot=45, color='royalblue')\n"
   ]
  },
  {
   "cell_type": "code",
   "execution_count": 30,
   "metadata": {},
   "outputs": [
    {
     "data": {
      "text/plain": [
       "Text(0.5, 1.0, 'Total Number of Data Points')"
      ]
     },
     "execution_count": 30,
     "metadata": {},
     "output_type": "execute_result"
    },
    {
     "data": {
      "image/png": "[encoded data removed]",
      "text/plain": [
       "<Figure size 432x288 with 1 Axes>"
      ]
     },
     "metadata": {
      "needs_background": "light"
     },
     "output_type": "display_data"
    }
   ],
   "source": [
    "# Generate a bar plot showing number of data points for each treatment regimen using pyplot\n",
    "x_axis = np.arange(len(datapoints_sum))\n",
    "tick_loc = [value for value in x_axis]\n",
    "\n",
    "plt.bar(x_axis, datapoints_sum['Mouse ID'], width=.45, color = 'royalblue', alpha=.75, align = \"center\")\n",
    "\n",
    "\n",
    "reg = list(datapoints_sum.index.values)\n",
    "\n",
    "\n",
    "plt.xticks(tick_loc, reg, rotation=45)\n",
    "plt.xlabel('Drug Regimen')\n",
    "plt.xlim(-.5, len(x_axis) - .5)\n",
    "\n",
    "plt.title('Total Number of Data Points')"
   ]
  },
  {
   "cell_type": "markdown",
   "metadata": {},
   "source": [
    "## Pie plots"
   ]
  },
  {
   "cell_type": "code",
   "execution_count": 53,
   "metadata": {},
   "outputs": [
    {
     "data": {
      "text/plain": [
       "<matplotlib.axes._subplots.AxesSubplot at 0x1a23faa550>"
      ]
     },
     "execution_count": 53,
     "metadata": {},
     "output_type": "execute_result"
    },
    {
     "data": {
      "image/png": "[encoded data removed]",
      "text/plain": [
       "<Figure size 432x288 with 1 Axes>"
      ]
     },
     "metadata": {},
     "output_type": "display_data"
    }
   ],
   "source": [
    "# Generate a pie plot showing the distribution of female versus male mice using pandas\n",
    "sexes = main_data['Sex'].value_counts()\n",
    "sexes.plot.pie(title='Distribution of Female vs. Male Mice', label='', colors=['royalblue','gold'], autopct=\"%1.1f%%\")"
   ]
  },
  {
   "cell_type": "code",
   "execution_count": 32,
   "metadata": {},
   "outputs": [
    {
     "data": {
      "text/plain": [
       "Text(0.5, 1.0, 'Distribution of Female vs. Male Mice')"
      ]
     },
     "execution_count": 32,
     "metadata": {},
     "output_type": "execute_result"
    },
    {
     "data": {
      "image/png": "[encoded data removed]",
      "text/plain": [
       "<Figure size 432x288 with 1 Axes>"
      ]
     },
     "metadata": {},
     "output_type": "display_data"
    }
   ],
   "source": [
    "# Generate a pie plot showing the distribution of female versus male mice using pyplot\n",
    "a = ['Male', 'Female']\n",
    "\n",
    "plt.pie(sexes, labels=a, colors=['royalblue','gold'], autopct=\"%1.1f%%\")\n",
    "plt.title('Distribution of Female vs. Male Mice')"
   ]
  },
  {
   "cell_type": "markdown",
   "metadata": {},
   "source": [
    "## Quartiles, outliers and boxplots"
   ]
  },
  {
   "cell_type": "code",
   "execution_count": 33,
   "metadata": {},
   "outputs": [],
   "source": [
    "# Calculate the final tumor volume of each mouse across four of the most promising treatment regimens. Calculate the IQR and quantitatively determine if there are any potential outliers. "
   ]
  },
  {
   "cell_type": "code",
   "execution_count": 105,
   "metadata": {
    "scrolled": false
   },
   "outputs": [
    {
     "data": {
      "text/html": [
       "<div>\n",
       "<style scoped>\n",
       "    .dataframe tbody tr th:only-of-type {\n",
       "        vertical-align: middle;\n",
       "    }\n",
       "\n",
       "    .dataframe tbody tr th {\n",
       "        vertical-align: top;\n",
       "    }\n",
       "\n",
       "    .dataframe thead th {\n",
       "        text-align: right;\n",
       "    }\n",
       "</style>\n",
       "<table border=\"1\" class=\"dataframe\">\n",
       "  <thead>\n",
       "    <tr style=\"text-align: right;\">\n",
       "      <th></th>\n",
       "      <th>Mouse ID</th>\n",
       "      <th>Final Tumor Volume (mm3)</th>\n",
       "    </tr>\n",
       "    <tr>\n",
       "      <th>Drug Regimen</th>\n",
       "      <th></th>\n",
       "      <th></th>\n",
       "    </tr>\n",
       "  </thead>\n",
       "  <tbody>\n",
       "    <tr>\n",
       "      <th>Capomulin</th>\n",
       "      <td>b128</td>\n",
       "      <td>38.98</td>\n",
       "    </tr>\n",
       "    <tr>\n",
       "      <th>Capomulin</th>\n",
       "      <td>b742</td>\n",
       "      <td>38.94</td>\n",
       "    </tr>\n",
       "    <tr>\n",
       "      <th>Capomulin</th>\n",
       "      <td>f966</td>\n",
       "      <td>30.49</td>\n",
       "    </tr>\n",
       "    <tr>\n",
       "      <th>Capomulin</th>\n",
       "      <td>g288</td>\n",
       "      <td>37.07</td>\n",
       "    </tr>\n",
       "    <tr>\n",
       "      <th>Capomulin</th>\n",
       "      <td>g316</td>\n",
       "      <td>40.16</td>\n",
       "    </tr>\n",
       "    <tr>\n",
       "      <th>...</th>\n",
       "      <td>...</td>\n",
       "      <td>...</td>\n",
       "    </tr>\n",
       "    <tr>\n",
       "      <th>Ceftamin</th>\n",
       "      <td>x226</td>\n",
       "      <td>45.00</td>\n",
       "    </tr>\n",
       "    <tr>\n",
       "      <th>Ceftamin</th>\n",
       "      <td>x581</td>\n",
       "      <td>64.63</td>\n",
       "    </tr>\n",
       "    <tr>\n",
       "      <th>Ceftamin</th>\n",
       "      <td>x822</td>\n",
       "      <td>61.39</td>\n",
       "    </tr>\n",
       "    <tr>\n",
       "      <th>Ceftamin</th>\n",
       "      <td>y769</td>\n",
       "      <td>68.59</td>\n",
       "    </tr>\n",
       "    <tr>\n",
       "      <th>Ceftamin</th>\n",
       "      <td>y865</td>\n",
       "      <td>64.73</td>\n",
       "    </tr>\n",
       "  </tbody>\n",
       "</table>\n",
       "<p>100 rows × 2 columns</p>\n",
       "</div>"
      ],
      "text/plain": [
       "             Mouse ID Final Tumor Volume (mm3)\n",
       "Drug Regimen                                  \n",
       "Capomulin        b128                    38.98\n",
       "Capomulin        b742                    38.94\n",
       "Capomulin        f966                    30.49\n",
       "Capomulin        g288                    37.07\n",
       "Capomulin        g316                    40.16\n",
       "...               ...                      ...\n",
       "Ceftamin         x226                    45.00\n",
       "Ceftamin         x581                    64.63\n",
       "Ceftamin         x822                    61.39\n",
       "Ceftamin         y769                    68.59\n",
       "Ceftamin         y865                    64.73\n",
       "\n",
       "[100 rows x 2 columns]"
      ]
     },
     "execution_count": 105,
     "metadata": {},
     "output_type": "execute_result"
    }
   ],
   "source": [
    "final_tumor = main_data.groupby([\"Mouse ID\"]).max()\n",
    "final_tumor = final_tumor.reset_index()\n",
    "final_tumor\n",
    "\n",
    "merged_df = final_tumor[['Mouse ID','Timepoint']].merge(main_data,on=['Mouse ID','Timepoint'],how=\"left\")\n",
    "\n",
    "\n",
    "treatment = merged_df.set_index('Drug Regimen')\n",
    "treatment = treatment.loc[['Capomulin', 'Ramicane', 'Infubinol', 'Ceftamin'],\n",
    "                          ['Mouse ID', 'Tumor Volume (mm3)']]\n",
    "\n",
    "\n",
    "treatment = treatment.rename(columns={'Tumor Volume (mm3)': 'Final Tumor Volume (mm3)'})\n",
    "treatment['Final Tumor Volume (mm3)'] = treatment['Final Tumor Volume (mm3)'].map('{:.2f}'.format)\n",
    "\n",
    "treatment"
   ]
  },
  {
   "cell_type": "code",
   "execution_count": 167,
   "metadata": {},
   "outputs": [
    {
     "name": "stdout",
     "output_type": "stream",
     "text": [
      "Capomulin: Final Tumor Volume (mm3)\n",
      "=====================================\n",
      "Lower quartile: 32.38\n",
      "Upper quartile: 40.16\n",
      "Interquartile range: 7.78\n",
      "Median: 38.13 \n",
      "Values below 20.7 could be outliers.\n",
      "Values above 51.83 could be outliers.\n",
      "Potential outliers: 0\n",
      "\n",
      "\n",
      "\n",
      "Ramicane: Final Tumor Volume (mm3)\n",
      "=====================================\n",
      "Lower quartile: 31.56\n",
      "Upper quartile: 40.66\n",
      "Interquartile range: 9.1\n",
      "Median: 36.56 \n",
      "Values below 17.91 could be outliers.\n",
      "Values above 54.31 could be outliers.\n",
      "Potential outliers: 0\n",
      "\n",
      "\n",
      "\n",
      "Infubinol: Final Tumor Volume (mm3)\n",
      "=====================================\n",
      "Lower quartile: 54.05\n",
      "Upper quartile: 65.53\n",
      "Interquartile range: 11.48\n",
      "Median: 60.17 \n",
      "Values below 36.83 could be outliers.\n",
      "Values above 82.74 could be outliers.\n",
      "Potential outliers: 1\n",
      "\n",
      "\n",
      "\n",
      "Ceftamin: Final Tumor Volume (mm3)\n",
      "=====================================\n",
      "Lower quartile: 48.72\n",
      "Upper quartile: 64.3\n",
      "Interquartile range: 15.58\n",
      "Median: 59.85 \n",
      "Values below 25.36 could be outliers.\n",
      "Values above 87.67 could be outliers.\n",
      "Potential outliers: 0\n",
      "\n",
      "\n",
      "\n"
     ]
    }
   ],
   "source": [
    "#IQR & Potential outliers\n",
    "drug1 = merged_df.loc[merged_df[\"Drug Regimen\"] == \"Capomulin\"]['Tumor Volume (mm3)']\n",
    "drug2 = merged_df.loc[merged_df[\"Drug Regimen\"] == \"Ramicane\"]['Tumor Volume (mm3)']\n",
    "drug3 = merged_df.loc[merged_df[\"Drug Regimen\"] == \"Infubinol\"]['Tumor Volume (mm3)']\n",
    "drug4 = merged_df.loc[merged_df[\"Drug Regimen\"] == \"Ceftamin\"]['Tumor Volume (mm3)']\n",
    "\n",
    "data = [drug1, drug2, drug3, drug4]\n",
    "drug_names = ['Capomulin','Ramicane','Infubinol','Ceftamin']\n",
    "\n",
    "\n",
    "\n",
    "for d,n in zip(data,drug_names):\n",
    "    \n",
    "    print(f'''{n}: Final Tumor Volume (mm3)\n",
    "=====================================''')\n",
    "    \n",
    "    quartiles = d.quantile([.25,.5,.75])\n",
    "    lowerq = quartiles[0.25]\n",
    "    upperq = quartiles[0.75]\n",
    "    iqr = upperq-lowerq\n",
    "    print(f\"Lower quartile: {round(lowerq,2)}\")\n",
    "    print(f\"Upper quartile: {round(upperq,2)}\")\n",
    "    print(f\"Interquartile range: {round(iqr,2)}\")\n",
    "    print(f\"Median: {round(quartiles[0.5],2)} \")\n",
    "\n",
    "    lower_bound = lowerq - (1.5*iqr)\n",
    "    upper_bound = upperq + (1.5*iqr)\n",
    "    print(f\"Values below {round(lower_bound,2)} could be outliers.\")\n",
    "    print(f\"Values above {round(upper_bound,2)} could be outliers.\")\n",
    "\n",
    "    outliers = (((d < lower_bound)) | (d > upper_bound)).sum()\n",
    "    print(f\"Potential outliers: {outliers}\\n\\n\\n\")\n",
    "    "
   ]
  },
  {
   "cell_type": "code",
   "execution_count": null,
   "metadata": {},
   "outputs": [],
   "source": []
  },
  {
   "cell_type": "code",
   "execution_count": 10,
   "metadata": {},
   "outputs": [],
   "source": [
    "# Generate a box plot of the final tumor volume of each mouse across four regimens of interest"
   ]
  },
  {
   "cell_type": "code",
   "execution_count": 112,
   "metadata": {},
   "outputs": [
    {
     "data": {
      "text/plain": [
       "[Text(0, 0, 'Capomulin'),\n",
       " Text(0, 0, 'Ramicane'),\n",
       " Text(0, 0, 'Infubinol'),\n",
       " Text(0, 0, 'Ceftamin')]"
      ]
     },
     "execution_count": 112,
     "metadata": {},
     "output_type": "execute_result"
    },
    {
     "data": {
      "image/png": "[encoded data removed]",
      "text/plain": [
       "<Figure size 432x288 with 1 Axes>"
      ]
     },
     "metadata": {
      "needs_background": "light"
     },
     "output_type": "display_data"
    }
   ],
   "source": [
    "fig1, ax1 = plt.subplots()\n",
    "ax1.set_title('Four Regimens of Interest')\n",
    "ax1.boxplot(data)\n",
    "\n",
    "ax1.set_xlabel(\"Drug Regimen\")\n",
    "ax1.set_ylabel(\"Final Tumor Volume (mm3)\")\n",
    "ax1.set_xticklabels(['Capomulin','Ramicane','Infubinol','Ceftamin'],rotation=45)"
   ]
  },
  {
   "cell_type": "markdown",
   "metadata": {},
   "source": [
    "## Line and scatter plots"
   ]
  },
  {
   "cell_type": "code",
   "execution_count": 55,
   "metadata": {},
   "outputs": [
    {
     "data": {
      "text/plain": [
       "Text(0, 0.5, 'Tumor Volume (mm3)')"
      ]
     },
     "execution_count": 55,
     "metadata": {},
     "output_type": "execute_result"
    },
    {
     "data": {
      "image/png": "[encoded data removed]",
      "text/plain": [
       "<Figure size 432x288 with 1 Axes>"
      ]
     },
     "metadata": {
      "needs_background": "light"
     },
     "output_type": "display_data"
    }
   ],
   "source": [
    "# Generate a line plot of time point versus tumor volume for a mouse treated with Capomulin\n",
    "m601 = main_data.loc[merged_data['Mouse ID'] == 'm601', ['Timepoint', 'Tumor Volume (mm3)']]\n",
    "m601 = m601.set_index('Timepoint')\n",
    "\n",
    "m601_tumor = m601['Tumor Volume (mm3)']\n",
    "\n",
    "plot_m601 = m601_tumor.plot.line(title='Capomulin Performance on Mouse M601', grid=True, ylim=(0,50))\n",
    "plot_m601.set_xlabel('Days')\n",
    "plot_m601.set_ylabel('Tumor Volume (mm3)')\n"
   ]
  },
  {
   "cell_type": "code",
   "execution_count": 56,
   "metadata": {
    "scrolled": true
   },
   "outputs": [
    {
     "data": {
      "text/plain": [
       "Text(0.5, 1.0, 'Capomulin: Mouse Weight vs. Average Tumor Volume')"
      ]
     },
     "execution_count": 56,
     "metadata": {},
     "output_type": "execute_result"
    },
    {
     "data": {
      "image/png": "[encoded data removed]",
      "text/plain": [
       "<Figure size 432x288 with 1 Axes>"
      ]
     },
     "metadata": {
      "needs_background": "light"
     },
     "output_type": "display_data"
    }
   ],
   "source": [
    "# Generate a scatter plot of mouse weight versus average tumor volume for the Capomulin regimen\n",
    "capomulin_df = main_data.loc[merged_data['Drug Regimen'] == 'Capomulin', \n",
    "                               ['Mouse ID','Weight (g)', 'Tumor Volume (mm3)']]\n",
    "\n",
    "\n",
    "avg_tumor = capomulin_df.groupby('Mouse ID')['Tumor Volume (mm3)'].mean()\n",
    "weight = capomulin_df.groupby('Mouse ID')['Weight (g)'].mean()\n",
    "\n",
    "\n",
    "avg_tumor_df = pd.DataFrame({'weight': weight, 'avg volume': avg_tumor})\n",
    "\n",
    "x = avg_tumor_df['weight']\n",
    "y = avg_tumor_df['avg volume']\n",
    "\n",
    "plt.scatter(x,y)\n",
    "\n",
    "plt.xlabel('Weight (g)')\n",
    "plt.ylabel('Average Tumor Volume (mm3)')\n",
    "plt.title('Capomulin: Mouse Weight vs. Average Tumor Volume')"
   ]
  },
  {
   "cell_type": "code",
   "execution_count": 13,
   "metadata": {},
   "outputs": [],
   "source": [
    "# Calculate the correlation coefficient and linear regression model for mouse weight and average tumor volume for the Capomulin regimen"
   ]
  },
  {
   "cell_type": "code",
   "execution_count": 14,
   "metadata": {},
   "outputs": [
    {
     "data": {
      "image/png": "[encoded data removed]",
      "text/plain": [
       "<Figure size 432x288 with 1 Axes>"
      ]
     },
     "metadata": {
      "needs_background": "light"
     },
     "output_type": "display_data"
    },
    {
     "name": "stdout",
     "output_type": "stream",
     "text": [
      "\n",
      "The correlation coefficient between mouse weight and average tumor volume is 0.84.\n",
      "\n",
      "\n"
     ]
    }
   ],
   "source": [
    "from scipy.stats import linregress\n",
    "\n",
    "\n",
    "correlation = st.pearsonr(x,y)\n",
    "correlation\n",
    "\n",
    "(slope, intercept, rvalue, pvalue, stderr) = linregress(x, y)\n",
    "regress_values = x * slope + intercept\n",
    "line_eq = \"y = \" + str(round(slope,2)) + \"x + \" + str(round(intercept,2))\n",
    "\n",
    "plt.annotate(line_eq,(20,36),fontsize=15,color=\"red\")\n",
    "plt.scatter(x,y)\n",
    "plt.plot(x,regress_values,\"r-\")\n",
    "\n",
    "plt.xlabel('Weight (g)')\n",
    "plt.ylabel('Average Tumor Volume (mm3)')\n",
    "plt.title('Capomulin: Mouse Weight vs. Average Tumor Volume')\n",
    "plt.show()\n",
    "\n",
    "print(f'''\n",
    "The correlation coefficient between mouse weight and average tumor volume is {round(correlation[0],2)}.\n",
    "''')"
   ]
  }
 ],
 "metadata": {
  "anaconda-cloud": {},
  "kernelspec": {
   "display_name": "Python 3",
   "language": "python",
   "name": "python3"
  },
  "language_info": {
   "codemirror_mode": {
    "name": "ipython",
    "version": 3
   },
   "file_extension": ".py",
   "mimetype": "text/x-python",
   "name": "python",
   "nbconvert_exporter": "python",
   "pygments_lexer": "ipython3",
   "version": "3.7.6"
  }
 },
 "nbformat": 4,
 "nbformat_minor": 2
}
